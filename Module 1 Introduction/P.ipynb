{
 "cells": [
  {
   "cell_type": "code",
   "execution_count": null,
   "metadata": {},
   "outputs": [],
   "source": [
    "#Python packages for data science\n",
    "# We can typically find three groups of Library\n",
    "# 1. Scientific Library: e.g. pandas(Data Structure and Tools), Numpy (for Array and Matrices) and \n",
    "#                        SCiPy(Integrals, solving differential eqn.s,optimization)\n",
    "# 2. Visualization Libraries: e.g. Matplotlib(graphs and plots), Seaborn(heat maps,time series,violin plots)\n",
    "# 3. Algorithmic Libraries: e.g. Scikit-learn (Machine Learning: regression, classification), \n",
    "#                           Statsmodels(Explore data, estimate statistical models and performstatistical tests)\n",
    "\n"
   ]
  }
 ],
 "metadata": {
  "kernelspec": {
   "display_name": "Python 3",
   "language": "python",
   "name": "python3"
  },
  "language_info": {
   "codemirror_mode": {
    "name": "ipython",
    "version": 3
   },
   "file_extension": ".py",
   "mimetype": "text/x-python",
   "name": "python",
   "nbconvert_exporter": "python",
   "pygments_lexer": "ipython3",
   "version": "3.7.6"
  }
 },
 "nbformat": 4,
 "nbformat_minor": 4
}
