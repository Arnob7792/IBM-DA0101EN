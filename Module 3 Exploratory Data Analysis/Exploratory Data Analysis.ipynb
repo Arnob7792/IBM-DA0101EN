{
 "cells": [
  {
   "cell_type": "code",
   "execution_count": 1,
   "metadata": {},
   "outputs": [],
   "source": [
    "#We do Exploratory Data Analysis (EDA) to:\n",
    "#1.Summarize Main Characters of the data\n",
    "#2.Gain betterunderstanding of the data set\n",
    "#3.Uncover relationships between variables\n",
    "#4.Extract important variables\n",
    "#THE QUESTIONNNN!!! \"WHAT ARE THE CHARACTERISTICS THAT HAD THE MOST IMPACT ON THE CAR PRICE?\""
   ]
  },
  {
   "cell_type": "code",
   "execution_count": 2,
   "metadata": {},
   "outputs": [],
   "source": [
    "#Our objectives:\n",
    "#1.Descriptive Statistics\n",
    "#2.GroupBy\n",
    "#3.ANOVA\n",
    "#4.Co-relation\n",
    "#5.Co-relation Satistics"
   ]
  },
  {
   "cell_type": "code",
   "execution_count": null,
   "metadata": {},
   "outputs": [],
   "source": []
  }
 ],
 "metadata": {
  "kernelspec": {
   "display_name": "Python 3",
   "language": "python",
   "name": "python3"
  },
  "language_info": {
   "codemirror_mode": {
    "name": "ipython",
    "version": 3
   },
   "file_extension": ".py",
   "mimetype": "text/x-python",
   "name": "python",
   "nbconvert_exporter": "python",
   "pygments_lexer": "ipython3",
   "version": "3.7.6"
  }
 },
 "nbformat": 4,
 "nbformat_minor": 4
}
