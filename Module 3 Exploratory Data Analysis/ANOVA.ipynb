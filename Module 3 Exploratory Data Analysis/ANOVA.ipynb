{
 "cells": [
  {
   "cell_type": "code",
   "execution_count": null,
   "metadata": {},
   "outputs": [],
   "source": [
    "# For example, consider the car dataset, the question we may ask is, how different categories\n",
    "# of the Make feature (as a categorical variable) has impact on the price?\n",
    "# But which category in the make feature has the most and which one has the least impact\n",
    "# on the car price prediction?"
   ]
  },
  {
   "cell_type": "code",
   "execution_count": null,
   "metadata": {},
   "outputs": [],
   "source": [
    "#According to the car dataset, we can use ANOVA to see if there is any difference in mean\n",
    "#price for the different car makes such as Subaru and Honda.\n",
    "#The ANOVA test returns two values: the F-test score and the p-value.\n",
    "#The F-test calculates the ratio of variation between the groups's mean over the variation\n",
    "#within each of the sample groups.\n",
    "#The p-value shows whether the obtained result is statistically significant.\n",
    "#All in all, we can say that there is a strong correlation between a categorical variable\n",
    "#and other variables, if the ANOVA test gives us a large F-test value and a small p-value."
   ]
  },
  {
   "cell_type": "code",
   "execution_count": 3,
   "metadata": {},
   "outputs": [],
   "source": [
    "import pandas as pd\n",
    "import numpy as np\n",
    "import seaborn as sns\n",
    "import matplotlib.pyplot as plt\n",
    "from scipy import stats\n",
    "df=pd.read_excel(\"C:\\\\Users\\\\ARNOB\\\\Desktop\\\\pricebinning.xlsx\")"
   ]
  },
  {
   "cell_type": "code",
   "execution_count": 4,
   "metadata": {},
   "outputs": [],
   "source": [
    "df_anova=df[['make','price']]\n",
    "grouped_anova=df_anova.groupby(['make'])\n",
    "anova_results_1=stats.f_oneway(grouped_anova.get_group('honda')['price'],grouped_anova.get_group('subaru')['price'])"
   ]
  },
  {
   "cell_type": "code",
   "execution_count": 5,
   "metadata": {},
   "outputs": [
    {
     "data": {
      "text/plain": [
       "F_onewayResult(statistic=0.19744030127462606, pvalue=0.6609478240622193)"
      ]
     },
     "execution_count": 5,
     "metadata": {},
     "output_type": "execute_result"
    }
   ],
   "source": [
    "anova_results_1"
   ]
  },
  {
   "cell_type": "code",
   "execution_count": 6,
   "metadata": {},
   "outputs": [],
   "source": [
    "#Now for Hondas and Jaguar\n",
    "anova_results_2=stats.f_oneway(grouped_anova.get_group('honda')['price'],grouped_anova.get_group('jaguar')['price'])"
   ]
  },
  {
   "cell_type": "code",
   "execution_count": 7,
   "metadata": {},
   "outputs": [
    {
     "data": {
      "text/plain": [
       "F_onewayResult(statistic=400.925870564337, pvalue=1.0586193512077862e-11)"
      ]
     },
     "execution_count": 7,
     "metadata": {},
     "output_type": "execute_result"
    }
   ],
   "source": [
    "anova_results_2"
   ]
  }
 ],
 "metadata": {
  "kernelspec": {
   "display_name": "Python 3",
   "language": "python",
   "name": "python3"
  },
  "language_info": {
   "codemirror_mode": {
    "name": "ipython",
    "version": 3
   },
   "file_extension": ".py",
   "mimetype": "text/x-python",
   "name": "python",
   "nbconvert_exporter": "python",
   "pygments_lexer": "ipython3",
   "version": "3.7.6"
  }
 },
 "nbformat": 4,
 "nbformat_minor": 4
}
