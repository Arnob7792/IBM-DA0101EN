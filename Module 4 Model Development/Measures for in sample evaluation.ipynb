{
 "cells": [
  {
   "cell_type": "code",
   "execution_count": 1,
   "metadata": {},
   "outputs": [],
   "source": [
    "#Esssentially a way to determine how well the model fits on the dataset\n",
    "#Two common methods of testing this fit:\n",
    "# 1. MSE: Mean Squared Error and 2.R-squared (R^2)"
   ]
  },
  {
   "cell_type": "code",
   "execution_count": 2,
   "metadata": {},
   "outputs": [],
   "source": [
    "# To find the MSE we need to use sklearn.metrics"
   ]
  },
  {
   "cell_type": "code",
   "execution_count": 3,
   "metadata": {},
   "outputs": [
    {
     "data": {
      "text/plain": [
       "<matplotlib.axes._subplots.AxesSubplot at 0x156d8e4be48>"
      ]
     },
     "execution_count": 3,
     "metadata": {},
     "output_type": "execute_result"
    },
    {
     "data": {
      "image/png": "[encoded data removed]",
      "text/plain": [
       "<Figure size 432x288 with 1 Axes>"
      ]
     },
     "metadata": {
      "needs_background": "light"
     },
     "output_type": "display_data"
    }
   ],
   "source": [
    "import pandas as pd\n",
    "import numpy as np\n",
    "import seaborn as sns\n",
    "import matplotlib.pyplot as plt\n",
    "from scipy import stats\n",
    "df=pd.read_excel(\"C:\\\\Users\\\\ARNOB\\\\Desktop\\\\pricebinning.xlsx\")\n",
    "\n",
    "from sklearn.metrics import mean_squared_error\n",
    "from sklearn.linear_model import LinearRegression #Import Linear Regression Model from Scikit-Learn\n",
    "lm=LinearRegression() #Creating a empty Linear Regression objectusing the constructor\n",
    "df=df.dropna()\n",
    "z=df[['horsepower','curb weight','engine size','highway mpg']] # We will use 4 independent variables\n",
    "#Then we train the model like before\n",
    "lm.fit(z,df['price'])\n",
    "Yhat=lm.predict(z)\n",
    "#DISTRIBUTION plOTTING FOR MULTIPLE VARIABLES\n",
    "ax1=sns.distplot(df['price'],hist=False,color='r',label=\"Actual Value\")\n",
    "sns.distplot(Yhat,hist=False,color='b',label='Fitted Values',ax=ax1)"
   ]
  },
  {
   "cell_type": "code",
   "execution_count": 4,
   "metadata": {},
   "outputs": [
    {
     "data": {
      "text/plain": [
       "6452134.404183746"
      ]
     },
     "execution_count": 4,
     "metadata": {},
     "output_type": "execute_result"
    }
   ],
   "source": [
    "mean_squared_error(df['price'],Yhat) # first input is the true value, the second input is the predicted formula/value"
   ]
  },
  {
   "cell_type": "code",
   "execution_count": 5,
   "metadata": {},
   "outputs": [],
   "source": [
    "#Now moving onto R-squared method\n",
    "#To measure how close the data is to the fitted regression line\n",
    "#R^2: The percentage of variation of the target variable(Y) that is \n",
    "#     explained by the linear model\n",
    "#Essentially comparing the regression model to a simple model/data points\n",
    "#-------------------------------------------------------------------------------#\n",
    "#R^2=(1-MSE of the regression line/MSE of the average data)\n",
    "#Values will range betwwen 0 to 1\n",
    "#Better values will yield results closer to 1 \n",
    "#as MSE of Regression Line will be little compared to MSE of the data points"
   ]
  },
  {
   "cell_type": "code",
   "execution_count": 6,
   "metadata": {},
   "outputs": [],
   "source": [
    "#We can test a sample from simply comparing a regression line for price vs highway mpg "
   ]
  },
  {
   "cell_type": "code",
   "execution_count": 8,
   "metadata": {},
   "outputs": [
    {
     "data": {
      "text/plain": [
       "0.5185297491395178"
      ]
     },
     "execution_count": 8,
     "metadata": {},
     "output_type": "execute_result"
    }
   ],
   "source": [
    "x=df[['highway mpg']] # We need a lot of background stuff for this, see previous notes\n",
    "y=df[['price']]\n",
    "lm.fit(x,y)\n",
    "Yhat=lm.predict(x) #Not necessary to tst the data fit!!\n",
    "lm.score(x,y) #This is how we test the fit score"
   ]
  },
  {
   "cell_type": "code",
   "execution_count": null,
   "metadata": {},
   "outputs": [],
   "source": [
    "#We can see the data fit is valid for 51.85 % data points, not great.\n",
    "# If it goes negative, it is called overfitting"
   ]
  }
 ],
 "metadata": {
  "kernelspec": {
   "display_name": "Python 3",
   "language": "python",
   "name": "python3"
  },
  "language_info": {
   "codemirror_mode": {
    "name": "ipython",
    "version": 3
   },
   "file_extension": ".py",
   "mimetype": "text/x-python",
   "name": "python",
   "nbconvert_exporter": "python",
   "pygments_lexer": "ipython3",
   "version": "3.7.6"
  }
 },
 "nbformat": 4,
 "nbformat_minor": 4
}
